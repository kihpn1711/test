{
 "cells": [
  {
   "cell_type": "code",
   "execution_count": 6,
   "id": "9d5b06d5-d1e9-4d69-bb8b-38b2cc69acd6",
   "metadata": {
    "tags": []
   },
   "outputs": [
    {
     "name": "stdout",
     "output_type": "stream",
     "text": [
      "Image saved to plain_images/ZeldaColor_512.png with size 512x512\n",
      "Image saved to plain_images/ZeldaColor_256.png with size 256x256\n"
     ]
    }
   ],
   "source": [
    "from PIL import Image\n",
    "\n",
    "def resize_image(input_path, output_path, size):\n",
    "    with Image.open(input_path) as img:\n",
    "        img_resized = img.resize((size, size))\n",
    "        img_resized.save(output_path)\n",
    "        print(f\"Image saved to {output_path} with size {size}x{size}\")\n",
    "\n",
    "# Ví dụ sử dụng:\n",
    "input_path = \"plain_images/ZeldaColor576x787.png\"  # Đường dẫn tới ảnh gốc\n",
    "output_path_512 = \"plain_images/ZeldaColor_512.png\"  # Đường dẫn lưu ảnh 512x512\n",
    "output_path_256 = \"plain_images/ZeldaColor_256.png\"  # Đường dẫn lưu ảnh 256x256\n",
    "\n",
    "resize_image(input_path, output_path_512, 512)\n",
    "resize_image(input_path, output_path_256, 256)\n"
   ]
  },
  {
   "cell_type": "code",
   "execution_count": null,
   "id": "1918e53d-4647-4344-b2db-f562a5eb06fa",
   "metadata": {},
   "outputs": [],
   "source": []
  }
 ],
 "metadata": {
  "kernelspec": {
   "display_name": "py29",
   "language": "python",
   "name": "py29"
  },
  "language_info": {
   "codemirror_mode": {
    "name": "ipython",
    "version": 3
   },
   "file_extension": ".py",
   "mimetype": "text/x-python",
   "name": "python",
   "nbconvert_exporter": "python",
   "pygments_lexer": "ipython3",
   "version": "3.9.17"
  }
 },
 "nbformat": 4,
 "nbformat_minor": 5
}
